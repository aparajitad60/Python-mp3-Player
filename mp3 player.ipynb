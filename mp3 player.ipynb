{
 "cells": [
  {
   "cell_type": "code",
   "execution_count": 1,
   "metadata": {},
   "outputs": [
    {
     "name": "stdout",
     "output_type": "stream",
     "text": [
      "pygame 1.9.6\n",
      "Hello from the pygame community. https://www.pygame.org/contribute.html\n"
     ]
    }
   ],
   "source": [
    "#Basic Python Music Player - using tkinter and pygame\n",
    "\n",
    "from tkinter import * #Python offers multiple options for developing GUI (Graphical User Interface). Out of all the GUI methods, tkinter is the most commonly used method. It is a standard Python interface to the Tk GUI toolkit shipped with Python. Python with tkinter is the fastest and easiest way to create the GUI applications.\n",
    "import tkinter.filedialog as tk #File dialogs help you open, save files or directories. This is the type of dialog you get when you click file,open. This dialog comes out of the module, there’s no need to write all the code manually.\n",
    "import tkinter.messagebox as tk2 #Tkinter messagebox. The messagebox module is used to display the message boxes in the python applications\n",
    "import pygame #The pygame library is an open-source module for the Python programming language specifically intended to help you make games and other multimedia applications. Built on top of the highly portable SDL (Simple DirectMedia Layer) development library, pygame can run across many platforms and operating systems."
   ]
  },
  {
   "cell_type": "code",
   "execution_count": 2,
   "metadata": {},
   "outputs": [],
   "source": [
    "playlist = []\n",
    "\n",
    "class Application(Frame): #application class inheriting from frame class\n",
    "    \n",
    "    def __init__(self,master):  #__init__. This is a special method in Python, which behaves similarly to a constructor in other languages - essentially, whenever an Application is created, Python will immediately call its __init__ method before it gives the new object back to whoever made it. master is just an argument, same as any other to any other function.\n",
    "        super(Application, self).__init__(master) #This calls the constructor of the superclass, to let it initialise the new object. super(Application, self) figures out what the superclass is (in this case it is Frame;\n",
    "        \n",
    "        #self.create_widgets()\n",
    "        self.playlistbox = Listbox(self, width = 40, height = 10, selectmode = SINGLE) #TODO: ---> BROWSE, MULTIPLE, EXTENDED (p.379)\n",
    "        for song in playlist:\n",
    "            self.playlistbox.insert(END, song)\n",
    "        \n",
    "            \n",
    "        self.grid(rowspan=5, columnspan=4) #How many rowswidget/column widget occupies; default 1 for both.\n",
    "        self.playlistbox.grid(row = 1)     #row − The row to put widget in; default the first row that is still empty.\n",
    "        self.playButton = Button(self, text = 'Play', command = self.play)\n",
    "        self.loopButton = Button(self, text = 'Loop', command = self.loop)\n",
    "        self.addButton = Button(self, text = 'Add', command = self.add)\n",
    "        self.pauseButton = Button(self, text = 'Pause', command = self.pause)\n",
    "       \n",
    "        \n",
    "        self.playButton.grid(row=4, column = 0)\n",
    "        self.loopButton.grid(row=4, column = 1)\n",
    "        self.addButton.grid(row=4, column = 2)\n",
    "        self.pauseButton.grid(row=4, column = 3)\n",
    "        \n",
    "        self.pack()    #The pack() geometry manager organizes widgets in blocks before placing them in the parent widget.\n",
    "        \n",
    "        #pygame initialize\n",
    "        pygame.init()  #initialize all imported pygame modules\n",
    "\n",
    "    def play(self):\n",
    "        if(len(playlist) == 0):\n",
    "            tk2.showinfo('Notice', 'No songs in your playlist!\\nClick Add to add songs.')\n",
    "        else:    \n",
    "            pygame.mixer.music.stop()\n",
    "            selectedSongs = self.playlistbox.curselection()  # curselection method. It returns a list of item indexes.\n",
    "            global playlistbox\n",
    "            playIt = playlist[int(selectedSongs[0])]\n",
    "            pygame.mixer.music.load(playIt)\n",
    "            pygame.mixer.music.play(0, 0.0)\n",
    "            \n",
    "\n",
    "    def loop(self):\n",
    "        pygame.mixer.music.stop()\n",
    "        pygame.mixer.music.play(-1,0.0)\n",
    "\n",
    "    def add(self):\n",
    "        file = tk.askopenfilenames(initialdir = 'Downloads')  \n",
    "        songsTuple = root.splitlist(file)   #turn user's opened filenames into tuple\n",
    "        songsList = list(songsTuple)        #convert to list\n",
    "        #Add the full filename of songto playlist list, and a shortened version to the listBox\n",
    "        for song in songsList:              \n",
    "            playlist.append(song);          \n",
    "            tempArray = song.split('/')     \n",
    "            songShort = tempArray[len(tempArray)-1]\n",
    "            self.playlistbox.insert(END, songShort)\n",
    "    \n",
    "    def pause(self):\n",
    "         pygame.mixer.music.pause()\n",
    "        \n",
    "    \n",
    "    \n",
    "        \n",
    "root = Tk()\n",
    "root.title('Text Editor')\n",
    "root.geometry('500x200')\n",
    "app = Application(root)\n",
    "app.mainloop()"
   ]
  },
  {
   "cell_type": "code",
   "execution_count": null,
   "metadata": {},
   "outputs": [],
   "source": []
  },
  {
   "cell_type": "code",
   "execution_count": null,
   "metadata": {},
   "outputs": [],
   "source": []
  }
 ],
 "metadata": {
  "kernelspec": {
   "display_name": "Python 3",
   "language": "python",
   "name": "python3"
  },
  "language_info": {
   "codemirror_mode": {
    "name": "ipython",
    "version": 3
   },
   "file_extension": ".py",
   "mimetype": "text/x-python",
   "name": "python",
   "nbconvert_exporter": "python",
   "pygments_lexer": "ipython3",
   "version": "3.7.3"
  }
 },
 "nbformat": 4,
 "nbformat_minor": 2
}
